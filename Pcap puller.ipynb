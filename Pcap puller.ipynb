{
 "cells": [
  {
   "cell_type": "code",
   "execution_count": 1,
   "id": "wooden-crack",
   "metadata": {},
   "outputs": [
    {
     "name": "stdout",
     "output_type": "stream",
     "text": [
      "what is the name of the file DONT INCLUDE .pcap case snesitivetest\n",
      "which packet is the beacon2\n"
     ]
    }
   ],
   "source": [
    "f = open(\"output.txt\", \"w\")\n",
    "\n",
    "from scapy.all import rdpcap\n",
    "\n",
    "\n",
    "#Ask for file name\n",
    "txt= input('what is the name of the file DONT INCLUDE .pcap case snesitive')\n",
    "\n",
    "fname=txt +'.pcap'\n",
    "\n",
    "\n",
    "pkts_list=rdpcap(fname)\n",
    "\n",
    "#ask for becon frame\n",
    "txt= input('which packet is the beacon')\n",
    "\n",
    "# Convert to int and Sub tract one for proper packet\n",
    "bnumb_int=int(txt)\n",
    "bnumb=bnumb_int - 1\n",
    "f.write ('Beacon info \\n')\n",
    "\n",
    "#Get beacon Receiver and Dest\n",
    "binfo_addr1=pkts_list[bnumb].addr1\n",
    "binfo_addr1_print=str(binfo_addr1)\n",
    "\n",
    "\n",
    "f.write('Receiver and Destination: '+ binfo_addr1_print +'\\n')\n",
    "\n",
    "#Get beacon Transmitter address \n",
    "binfo_addr2=pkts_list[bnumb].addr2\n",
    "binfo_addr2_print=str(binfo_addr2)\n",
    "\n",
    "f.write('Transmitter Address: '+ binfo_addr2_print +'\\n')\n",
    "\n",
    "#Get beacon Source Adress\n",
    "binfo_addr3=pkts_list[bnumb].addr3\n",
    "binfo_addr3_print=str(binfo_addr3)\n",
    "\n",
    "f.write('Source Address: '+ binfo_addr3_print +'\\n')\n",
    "\n",
    "#Get SSID\n",
    "binfo_ssid=pkts_list[bnumb].info\n",
    "binfo_ssid_print=str(binfo_ssid)\n",
    "\n",
    "f.write('SSID: '+ binfo_ssid_print +'\\n')\n",
    "\n",
    "f.close()\n",
    "\n"
   ]
  },
  {
   "cell_type": "code",
   "execution_count": null,
   "id": "systematic-retreat",
   "metadata": {},
   "outputs": [],
   "source": []
  },
  {
   "cell_type": "code",
   "execution_count": null,
   "id": "interstate-pizza",
   "metadata": {},
   "outputs": [],
   "source": []
  },
  {
   "cell_type": "code",
   "execution_count": null,
   "id": "mental-production",
   "metadata": {},
   "outputs": [],
   "source": []
  },
  {
   "cell_type": "code",
   "execution_count": null,
   "id": "posted-possibility",
   "metadata": {},
   "outputs": [],
   "source": []
  }
 ],
 "metadata": {
  "kernelspec": {
   "display_name": "Python 3",
   "language": "python",
   "name": "python3"
  },
  "language_info": {
   "codemirror_mode": {
    "name": "ipython",
    "version": 3
   },
   "file_extension": ".py",
   "mimetype": "text/x-python",
   "name": "python",
   "nbconvert_exporter": "python",
   "pygments_lexer": "ipython3",
   "version": "3.8.8"
  }
 },
 "nbformat": 4,
 "nbformat_minor": 5
}
